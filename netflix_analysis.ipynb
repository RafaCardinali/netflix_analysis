{
 "cells": [
  {
   "cell_type": "code",
   "execution_count": 1,
   "metadata": {},
   "outputs": [
    {
     "name": "stdout",
     "output_type": "stream",
     "text": [
      "108\n",
      "7\n"
     ]
    }
   ],
   "source": [
    "import pandas as pd\n",
    "import matplotlib.pyplot as plt\n",
    "import numpy as np\n",
    "\n",
    "netflix_df = pd.read_csv(\"netflix_data.csv\", index_col= 0)\n",
    "\n",
    "release_year = netflix_df[\"release_year\"]\n",
    "nf_movie = netflix_df[\"type\"] == \"Movie\"\n",
    "release_year_1990 = np.logical_and(release_year >= 1990, release_year <= 1999)\n",
    "movie_in_1990 = netflix_df[np.logical_and(release_year_1990, nf_movie)]\n",
    "\n",
    "duration = int(np.median(movie_in_1990[\"duration\"]))\n",
    "print(duration)\n",
    "\n",
    "short_movie_count = 0\n",
    "for lab, row in movie_in_1990.iterrows() :\n",
    "    if row[\"genre\"] == \"Action\" :\n",
    "        if row[\"duration\"] < 90 :\n",
    "            short_movie_count = short_movie_count + 1\n",
    "print(short_movie_count)"
   ]
  }
 ],
 "metadata": {
  "kernelspec": {
   "display_name": "base",
   "language": "python",
   "name": "python3"
  },
  "language_info": {
   "codemirror_mode": {
    "name": "ipython",
    "version": 3
   },
   "file_extension": ".py",
   "mimetype": "text/x-python",
   "name": "python",
   "nbconvert_exporter": "python",
   "pygments_lexer": "ipython3",
   "version": "3.12.4"
  }
 },
 "nbformat": 4,
 "nbformat_minor": 2
}
